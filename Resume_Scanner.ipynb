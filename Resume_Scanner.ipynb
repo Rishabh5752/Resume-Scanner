{
  "nbformat": 4,
  "nbformat_minor": 0,
  "metadata": {
    "colab": {
      "name": "Resume Scanner.ipynb",
      "provenance": []
    },
    "kernelspec": {
      "name": "python3",
      "display_name": "Python 3"
    },
    "language_info": {
      "name": "python"
    }
  },
  "cells": [
    {
      "cell_type": "code",
      "metadata": {
        "colab": {
          "base_uri": "https://localhost:8080/"
        },
        "id": "7ANuefsUPBUG",
        "outputId": "6240e945-96d9-44c9-9680-b9b6f641e424"
      },
      "source": [
        "!pip install docx2txt\n",
        "import docx2txt"
      ],
      "execution_count": null,
      "outputs": [
        {
          "output_type": "stream",
          "text": [
            "Requirement already satisfied: docx2txt in /usr/local/lib/python3.7/dist-packages (0.8)\n"
          ],
          "name": "stdout"
        }
      ]
    },
    {
      "cell_type": "code",
      "metadata": {
        "id": "1EIWE2t-PD8A"
      },
      "source": [
        "job_description = docx2txt.process('/content/sample_description.docx')\n",
        "resume = docx2txt.process('/content/sample_resume3.docx')"
      ],
      "execution_count": null,
      "outputs": []
    },
    {
      "cell_type": "code",
      "metadata": {
        "colab": {
          "base_uri": "https://localhost:8080/"
        },
        "id": "PLr0PKT_TFG_",
        "outputId": "2c89d7be-7759-4c4e-f98d-a3b70c5814e5"
      },
      "source": [
        "print(job_description)"
      ],
      "execution_count": null,
      "outputs": [
        {
          "output_type": "stream",
          "text": [
            "Job brief\n",
            "\n",
            "We are looking for a Senior Web Developer to build and maintain functional web pages and applications.\n",
            "\n",
            "\n",
            "\n",
            "Senior Web Developer responsibilities include leading a team of junior developers, refining website specifications and resolving technical issues. To be successful in this role, you should have extensive experience building web pages from scratch and in-depth knowledge of at least one of the following programming languages: Javascript, Ruby or PHP.\n",
            "\n",
            "\n",
            "\n",
            "Ultimately, you will ensure our web pages are up and running and cover both internal and customer needs.\n",
            "\n",
            "\n",
            "\n",
            "Responsibilities\n",
            "\n",
            "Identify user and system requirements for new websites and applications\n",
            "\n",
            "Prioritize software development projects, set timelines and assign tasks to team members\n",
            "\n",
            "Create wireframes to decide on layout\n",
            "\n",
            "Write or review code for various applications\n",
            "\n",
            "Run functionality testings and debug code\n",
            "\n",
            "Oversee junior web developers and evaluate their performance\n",
            "\n",
            "Liaise with designers to decide on UI/UX elements (like graphics and navigation buttons)\n",
            "\n",
            "Ensure our software documentation is up-to-date\n",
            "\n",
            "Collaborate with mobile developers to build mobile-responsive websites\n",
            "\n",
            "Requirements\n",
            "\n",
            "Work experience as a Senior Web Developer\n",
            "\n",
            "Expertise in at least one programming language, preferably Javascript, Ruby or PHP\n",
            "\n",
            "Solid knowledge of HTML/CSS\n",
            "\n",
            "Experience with mockup and UI prototyping tools\n",
            "\n",
            "Understanding of security practices\n",
            "\n",
            "Familiarity with network diagnostics tools\n",
            "\n",
            "Team management skills\n",
            "\n",
            "BSc/MSc in Computer Science or relevant field\n"
          ],
          "name": "stdout"
        }
      ]
    },
    {
      "cell_type": "code",
      "metadata": {
        "id": "mR2ycM7oTVlG"
      },
      "source": [
        "content = [job_description, resume]"
      ],
      "execution_count": null,
      "outputs": []
    },
    {
      "cell_type": "code",
      "metadata": {
        "id": "b2zGrBSuT76O"
      },
      "source": [
        "from sklearn.feature_extraction.text import CountVectorizer\n",
        "cv = CountVectorizer()\n",
        "count_matrix = cv.fit_transform(content)"
      ],
      "execution_count": null,
      "outputs": []
    },
    {
      "cell_type": "code",
      "metadata": {
        "colab": {
          "base_uri": "https://localhost:8080/"
        },
        "id": "qFPXiuTuUZhG",
        "outputId": "69019335-4d38-4a4c-f26d-92481ac216f1"
      },
      "source": [
        "from sklearn.metrics.pairwise import cosine_similarity\n",
        "mat = cosine_similarity(count_matrix)\n",
        "print(mat)"
      ],
      "execution_count": null,
      "outputs": [
        {
          "output_type": "stream",
          "text": [
            "[[1.         0.53707698]\n",
            " [0.53707698 1.        ]]\n"
          ],
          "name": "stdout"
        }
      ]
    },
    {
      "cell_type": "code",
      "metadata": {
        "colab": {
          "base_uri": "https://localhost:8080/"
        },
        "id": "Kd52JHx5UyVG",
        "outputId": "15b87a82-01df-45eb-f794-ce95cbdeda71"
      },
      "source": [
        "print('Resume Matches by: '+  str(mat[1][0]*100) + '%')"
      ],
      "execution_count": null,
      "outputs": [
        {
          "output_type": "stream",
          "text": [
            "Resume Matches by: 53.707697734612495%\n"
          ],
          "name": "stdout"
        }
      ]
    }
  ]
}